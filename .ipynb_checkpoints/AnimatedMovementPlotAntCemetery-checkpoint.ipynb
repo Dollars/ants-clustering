{
 "metadata": {
  "css": [
   "solarized-light"
  ],
  "name": "",
  "signature": "sha256:98cefd47da0b99348fe52f301aec4200b72f725c6496dd671de368ec88b0469a"
 },
 "nbformat": 3,
 "nbformat_minor": 0,
 "worksheets": [
  {
   "cells": [
    {
     "cell_type": "heading",
     "level": 1,
     "metadata": {
      "slideshow": {
       "slide_type": "slide"
      }
     },
     "source": [
      "Plot of the ant cemetery for clustering purposes."
     ]
    },
    {
     "cell_type": "code",
     "collapsed": false,
     "input": [
      "#%matplotlib inline\n",
      "import sys\n",
      "sys.path.append(\"../..\")\n",
      "import matplotlib.pyplot as plt\n",
      "import matplotlib.animation as animation\n",
      "import matplotlib.cm as cm\n",
      "import numpy as np\n",
      "from random import choice\n",
      "from AntsCemetery import *\n",
      "from AntsCemeteryNormalized import *\n",
      "from Datapoint import *\n",
      "from clusteringColorPixels import ColorPixel"
     ],
     "language": "python",
     "metadata": {},
     "outputs": []
    },
    {
     "cell_type": "code",
     "collapsed": false,
     "input": [
      "from tempfile import NamedTemporaryFile\n",
      "from IPython.display import HTML\n",
      "\n",
      "VIDEO_TAG = \"\"\"<video controls>\n",
      " <source src=\"data:video/x-m4v;base64,{0}\" type=\"video/mp4\">\n",
      " Your browser does not support the video tag.\n",
      "</video>\"\"\"\n",
      "\n",
      "def anim_to_html(anim):\n",
      "    if not hasattr(anim, '_encoded_video'):\n",
      "        with NamedTemporaryFile(suffix='.webm') as f:\n",
      "            anim.save(f.name, fps=5, extra_args=['-vcodec', 'libvpx'])\n",
      "            video = open(f.name, \"rb\").read()\n",
      "        anim._encoded_video = video.encode(\"base64\")\n",
      "    \n",
      "    return VIDEO_TAG.format(anim._encoded_video)\n",
      "\n",
      "animation.Animation._repr_html_ = anim_to_html"
     ],
     "language": "python",
     "metadata": {},
     "outputs": []
    },
    {
     "cell_type": "code",
     "collapsed": false,
     "input": [
      "class AnimatedScatter(object):\n",
      "    def __init__(self,dataset, n = 100000):\n",
      "        self.n = n\n",
      "        self.ac = AntsCemeteryNormalized(dataset,0.8,0.7)\n",
      "        self.fig, self.ax = plt.subplots()\n",
      "        self.ax.set_title(\"Animated clustering\",fontsize=14)\n",
      "        self.ax.grid(True,linestyle='-',color='0.75')\n",
      "        self.anim = animation.FuncAnimation(self.fig, self.update_plot, frames=range(n), interval = 100, \n",
      "                                           blit=True, init_func=self.setup_plot, repeat=False)\n",
      "    def update_plot(self, i):\n",
      "        antPos1 = []\n",
      "        for ant in self.ac.ants:\n",
      "            antPos1.append(np.array(ant.getPos()))\n",
      "        antPos1 = np.array(antPos1)\n",
      "        if(i == (self.n)-1):\n",
      "            self.ac.finalize()\n",
      "        else:\n",
      "            self.ac.iterate(1)\n",
      "        antPos2 = []\n",
      "        for ant in self.ac.ants:\n",
      "            antPos2.append(np.array(ant.getPos()))\n",
      "        antPos2 = np.array(antPos2) \n",
      "        \n",
      "        point = list(self.ac.board.values())\n",
      "        pos = list(self.ac.board.keys())\n",
      "        colorPix = [str(pix) for pix in point]\n",
      "        antPos = []\n",
      "        colorPickedPix = []\n",
      "        pickedPos = []\n",
      "        for ant in self.ac.ants:\n",
      "            if(ant.carrying()):\n",
      "                colorPickedPix.append(str(ant.peek()))\n",
      "                pickedPos.append(ant.getPos())\n",
      "            else:\n",
      "                antPos.append(ant.getPos())\n",
      "\n",
      "        self.scat1 = self.ax.scatter([i for (i,j) in pos], [j for (i,j) in pos], \n",
      "                                    marker='o', s=150, c=colorPix, cmap=cm.get_cmap(\"Set1\"), animated=True)\n",
      "        self.scat2 = self.ax.scatter([i for (i,j) in antPos], [j for (i,j) in antPos], \n",
      "                                    marker='d', s=100, c=\"k\", animated=True)\n",
      "        self.scat3 = self.ax.scatter([i for (i,j) in pickedPos], [j for (i,j) in pickedPos], \n",
      "                                    marker='o', s=150, c=colorPickedPix, cmap=cm.get_cmap(\"Set1\"), \n",
      "                                    alpha=0.5, animated=True)\n",
      "        self.quiv = self.ax.quiver(antPos1[:,0], antPos1[:,1], (antPos2-antPos1)[:,0], (antPos2-antPos1)[:,1])\n",
      "        return self.scat1, self.scat2, self.scat3, self.quiv,\n",
      "\n",
      "    def setup_plot(self):\n",
      "        point = list(self.ac.board.values())\n",
      "        pos = list(self.ac.board.keys())\n",
      "        colorPix = [str(pix) for pix in point]\n",
      "        antPos = []\n",
      "        colorPickedPix = []\n",
      "        pickedPos = []\n",
      "        for ant in self.ac.ants:\n",
      "            if(ant.carrying()):\n",
      "                colorPickedPix.append(str(ant.peek()))\n",
      "                pickedPos.append(ant.getPos())\n",
      "            else:\n",
      "                antPos.append(ant.getPos())\n",
      "\n",
      "        self.scat1 = self.ax.scatter([i for (i,j) in pos], [j for (i,j) in pos], \n",
      "                                    marker='o', s=150, c=colorPix, cmap=cm.get_cmap(\"Set1\"), animated=True)\n",
      "        self.scat2 = self.ax.scatter([i for (i,j) in antPos], [j for (i,j) in antPos], \n",
      "                                    marker='d', s=100, c=\"k\", animated=True)\n",
      "        self.scat3 = self.ax.scatter([i for (i,j) in pickedPos], [j for (i,j) in pickedPos], \n",
      "                                    marker='o', s=150, c=colorPickedPix, cmap=cm.get_cmap(\"Set1\"), \n",
      "                                    alpha=0.5, animated=True)\n",
      "        self.ax.axis([-1, self.ac.boardDimension+1, -1, self.ac.boardDimension+1])\n",
      "        return self.scat1, self.scat2, self.scat3,\n",
      "    \n",
      "    def show(self):\n",
      "        plt.show()\n"
     ],
     "language": "python",
     "metadata": {},
     "outputs": []
    },
    {
     "cell_type": "code",
     "collapsed": false,
     "input": [
      "dataset = []\n",
      "range1 = range(16)\n",
      "range2 = range(105,121)\n",
      "range3 = range(240,256)\n",
      "for i in range (30):\n",
      "    dataset.append(ColorPixel(choice(range3),choice(range1),choice(range1)))#Mostly red pixels\n",
      "    dataset.append(ColorPixel(choice(range1),choice(range3),choice(range1)))#Mostly green pixels\n",
      "    dataset.append(ColorPixel(choice(range1),choice(range1),choice(range3)))#Mostly blue pixels"
     ],
     "language": "python",
     "metadata": {
      "code_folding": [],
      "run_control": {
       "breakpoint": false,
       "read_only": false
      },
      "slideshow": {
       "slide_type": "slide"
      }
     },
     "outputs": []
    },
    {
     "cell_type": "code",
     "collapsed": false,
     "input": [
      "a = AnimatedScatter(dataset)"
     ],
     "language": "python",
     "metadata": {},
     "outputs": []
    },
    {
     "cell_type": "code",
     "collapsed": false,
     "input": [
      "a.show()"
     ],
     "language": "python",
     "metadata": {},
     "outputs": []
    },
    {
     "cell_type": "code",
     "collapsed": false,
     "input": [],
     "language": "python",
     "metadata": {},
     "outputs": []
    }
   ],
   "metadata": {}
  }
 ]
}