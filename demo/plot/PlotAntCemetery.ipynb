{
 "metadata": {
  "name": "",
  "signature": "sha256:3849fa5ab339b0cc51cb936418da7fc12e245cdd193911b41ad8d5299695c2fc"
 },
 "nbformat": 3,
 "nbformat_minor": 0,
 "worksheets": [
  {
   "cells": [
    {
     "cell_type": "code",
     "collapsed": false,
     "input": [
      "%matplotlib inline\n",
      "import sys\n",
      "sys.path.append(\"../..\")\n",
      "import matplotlib.pyplot as plt\n",
      "import matplotlib.animation as animation\n",
      "import matplotlib.cm as cm\n",
      "from random import choice\n",
      "from AntsCemetery import *\n",
      "from AntsCemeteryNormalized import *\n",
      "from Datapoint import *\n",
      "from clusteringColorPixels import ColorPixel"
     ],
     "language": "python",
     "metadata": {},
     "outputs": []
    },
    {
     "cell_type": "code",
     "collapsed": false,
     "input": [
      "dataset = []\n",
      "range1 = range(16)\n",
      "range2 = range(105,121)\n",
      "range3 = range(240,256)\n",
      "for i in range (30):\n",
      "    dataset.append(ColorPixel(choice(range3),choice(range1),choice(range1)))#Mostly red pixels\n",
      "    dataset.append(ColorPixel(choice(range1),choice(range3),choice(range1)))#Mostly green pixels\n",
      "    dataset.append(ColorPixel(choice(range1),choice(range1),choice(range3)))#Mostly blue pixels"
     ],
     "language": "python",
     "metadata": {},
     "outputs": []
    },
    {
     "cell_type": "code",
     "collapsed": false,
     "input": [
      "ac = AntsCemeteryNormalized(dataset,0.8,0.7)"
     ],
     "language": "python",
     "metadata": {},
     "outputs": []
    },
    {
     "cell_type": "code",
     "collapsed": false,
     "input": [
      "point = list(ac.board.values())\n",
      "pos = list(ac.board.keys())\n",
      "colorPix = [str(pix) for pix in point]\n",
      "antPos = []\n",
      "colorPickedPix = []\n",
      "pickedPos = []\n",
      "for ant in ac.ants:\n",
      "    if(ant.carrying()):\n",
      "        colorPickedPix.append(str(ant.peek()))\n",
      "        pickedPos.append(ant.getPos())\n",
      "    else:\n",
      "        antPos.append(ant.getPos())"
     ],
     "language": "python",
     "metadata": {},
     "outputs": []
    },
    {
     "cell_type": "code",
     "collapsed": false,
     "input": [
      "plt.scatter([i for (i,j) in pos], [j for (i,j) in pos], marker='o',\n",
      "            s=150, c=colorPix, cmap=cm.get_cmap(\"Set1\"))\n",
      "plt.scatter([i for (i,j) in antPos], [j for (i,j) in antPos], marker='d',\n",
      "            s=100, c=\"k\")\n",
      "plt.scatter([i for (i,j) in pickedPos], [j for (i,j) in pickedPos], marker='o',\n",
      "            s=150,c=colorPickedPix, cmap=cm.get_cmap(\"Set1\"), alpha=0.5)\n",
      "plt.title(\"Points to be clustered\",fontsize=14)\n",
      "plt.grid(True,linestyle='-',color='0.75')"
     ],
     "language": "python",
     "metadata": {},
     "outputs": []
    },
    {
     "cell_type": "code",
     "collapsed": false,
     "input": [
      "ac.iterate(10000)"
     ],
     "language": "python",
     "metadata": {},
     "outputs": []
    },
    {
     "cell_type": "code",
     "collapsed": false,
     "input": [
      "point = list(ac.board.values())\n",
      "pos = list(ac.board.keys())\n",
      "colorPix = [str(pix) for pix in point]\n",
      "antPos = []\n",
      "colorPickedPix = []\n",
      "pickedPos = []\n",
      "for ant in ac.ants:\n",
      "    if(ant.carrying()):\n",
      "        colorPickedPix.append(str(ant.peek()))\n",
      "        pickedPos.append(ant.getPos())\n",
      "    else:\n",
      "        antPos.append(ant.getPos())"
     ],
     "language": "python",
     "metadata": {},
     "outputs": []
    },
    {
     "cell_type": "code",
     "collapsed": false,
     "input": [
      "plt.scatter([i for (i,j) in pos], [j for (i,j) in pos], marker='o',\n",
      "            s=150, c=colorPix, cmap=cm.get_cmap(\"Set1\"))\n",
      "plt.scatter([i for (i,j) in antPos], [j for (i,j) in antPos], marker='d',\n",
      "            s=100, c=\"k\")\n",
      "plt.scatter([i for (i,j) in pickedPos], [j for (i,j) in pickedPos], marker='o',\n",
      "            s=150, c=colorPickedPix, cmap=cm.get_cmap(\"Set1\"), alpha=0.5)\n",
      "plt.title(\"Points to be clustered\",fontsize=14)\n",
      "plt.grid(True,linestyle='-',color='0.75')"
     ],
     "language": "python",
     "metadata": {},
     "outputs": []
    },
    {
     "cell_type": "code",
     "collapsed": false,
     "input": [
      "ac.finalize()"
     ],
     "language": "python",
     "metadata": {},
     "outputs": []
    },
    {
     "cell_type": "code",
     "collapsed": false,
     "input": [
      "point = list(ac.board.values())\n",
      "pos = list(ac.board.keys())\n",
      "colorPix = [str(pix) for pix in point]\n",
      "antPos = []\n",
      "colorPickedPix = []\n",
      "pickedPos = []\n",
      "for ant in ac.ants:\n",
      "    if(ant.carrying()):\n",
      "        colorPickedPix.append(str(ant.peek()))\n",
      "        pickedPos.append(ant.getPos())\n",
      "    else:\n",
      "        antPos.append(ant.getPos())"
     ],
     "language": "python",
     "metadata": {},
     "outputs": []
    },
    {
     "cell_type": "code",
     "collapsed": false,
     "input": [
      "plt.scatter([i for (i,j) in pos], [j for (i,j) in pos], marker='o',\n",
      "            s=150, c=colorPix, cmap=cm.get_cmap(\"Set1\"))\n",
      "plt.scatter([i for (i,j) in antPos], [j for (i,j) in antPos], marker='d',\n",
      "            s=100, c=\"k\")\n",
      "plt.scatter([i for (i,j) in pickedPos], [j for (i,j) in pickedPos], marker='o',\n",
      "            s=150, c=colorPickedPix, cmap=cm.get_cmap(\"Set1\"), alpha=0.5)\n",
      "plt.title(\"Points to be clustered\",fontsize=14)\n",
      "plt.grid(True,linestyle='-',color='0.75')"
     ],
     "language": "python",
     "metadata": {},
     "outputs": []
    },
    {
     "cell_type": "code",
     "collapsed": false,
     "input": [],
     "language": "python",
     "metadata": {},
     "outputs": []
    }
   ],
   "metadata": {}
  }
 ]
}