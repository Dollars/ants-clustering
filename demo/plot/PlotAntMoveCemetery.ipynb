{
 "metadata": {
  "name": "",
  "signature": "sha256:0afa447bbcd69405a93c1e3c7f328a6168cab8ecb6bf5b15001f7ac90638a962"
 },
 "nbformat": 3,
 "nbformat_minor": 0,
 "worksheets": [
  {
   "cells": [
    {
     "cell_type": "code",
     "collapsed": false,
     "input": [
      "%matplotlib inline\n",
      "import sys\n",
      "sys.path.append(\"../..\")\n",
      "import matplotlib.pyplot as plt\n",
      "import matplotlib.animation as animation\n",
      "import matplotlib.cm as cm\n",
      "import numpy as np\n",
      "from random import choice\n",
      "from AntsCemetery import *\n",
      "from AntsCemeteryNormalized import *\n",
      "from Datapoint import *\n",
      "from clusteringColorPixels import ColorPixel"
     ],
     "language": "python",
     "metadata": {},
     "outputs": []
    },
    {
     "cell_type": "code",
     "collapsed": false,
     "input": [
      "dataset = []\n",
      "range1 = range(16)\n",
      "range2 = range(105,121)\n",
      "range3 = range(240,256)\n",
      "for i in range (30):\n",
      "    dataset.append(ColorPixel(choice(range3),choice(range1),choice(range1)))#Mostly red pixels\n",
      "    dataset.append(ColorPixel(choice(range1),choice(range3),choice(range1)))#Mostly green pixels\n",
      "    dataset.append(ColorPixel(choice(range1),choice(range1),choice(range3)))#Mostly blue pixels"
     ],
     "language": "python",
     "metadata": {},
     "outputs": []
    },
    {
     "cell_type": "code",
     "collapsed": false,
     "input": [
      "ac = AntsCemeteryNormalized(dataset,0.8,0.7)"
     ],
     "language": "python",
     "metadata": {},
     "outputs": []
    },
    {
     "cell_type": "code",
     "collapsed": false,
     "input": [
      "antPos1 = []\n",
      "for ant in ac.ants:\n",
      "    antPos1.append(np.array(ant.getPos()))\n",
      "antPos1 = np.array(antPos1)\n",
      "ac.iterate(1)\n",
      "antPos2 = []\n",
      "for ant in ac.ants:\n",
      "    antPos2.append(np.array(ant.getPos()))\n",
      "antPos2 = np.array(antPos2)    "
     ],
     "language": "python",
     "metadata": {},
     "outputs": []
    },
    {
     "cell_type": "code",
     "collapsed": false,
     "input": [
      "plt.quiver(antPos1[:,0], antPos1[:,1], (antPos2-antPos1)[:,0], (antPos2-antPos1)[:,1])\n",
      "plt.title(\"Ant's moves\",fontsize=14)\n",
      "plt.grid(True, linestyle='--',color='0.75')\n",
      "xlab = plt.xticks(range(ac.boardDimension))\n",
      "ylab = plt.yticks(range(ac.boardDimension))"
     ],
     "language": "python",
     "metadata": {},
     "outputs": []
    },
    {
     "cell_type": "code",
     "collapsed": false,
     "input": [
      "def plotMove(ac, dic):\n",
      "    for ant in ac.ants:\n",
      "        if not ant in dic:\n",
      "            dic[ant] = []\n",
      "        dic[ant] += [np.array(ant.getPos())]\n",
      "\n",
      "def plotMoveOfOne(ac, lists, whichOne):\n",
      "    lists += [np.array(ac.ants[whichOne].getPos())]"
     ],
     "language": "python",
     "metadata": {},
     "outputs": []
    },
    {
     "cell_type": "code",
     "collapsed": false,
     "input": [
      "listAntPos = []\n",
      "ac.iterate(1000, show=plotMoveOfOne, lists=listAntPos, whichOne=0)"
     ],
     "language": "python",
     "metadata": {},
     "outputs": []
    },
    {
     "cell_type": "code",
     "collapsed": false,
     "input": [
      "listAntPos = np.asarray(listAntPos)\n",
      "plt.title(\"Points to be clustered\",fontsize=14)\n",
      "plt.grid(True,linestyle='-',color='0.75')\n",
      "plt.plot(listAntPos[:,0], listAntPos[:,1], 'go-')"
     ],
     "language": "python",
     "metadata": {},
     "outputs": []
    },
    {
     "cell_type": "code",
     "collapsed": false,
     "input": [
      "listAntsPos = {}\n",
      "print(listAntsPos)"
     ],
     "language": "python",
     "metadata": {},
     "outputs": []
    },
    {
     "cell_type": "code",
     "collapsed": false,
     "input": [
      "ac.iterate(1000, show=plotMove, dic=listAntsPos)"
     ],
     "language": "python",
     "metadata": {},
     "outputs": []
    },
    {
     "cell_type": "code",
     "collapsed": false,
     "input": [
      "plt.title(\"Points to be clustered\",fontsize=14)\n",
      "plt.grid(True,linestyle='-',color='0.75')\n",
      "plt.plot(np.array(list(listAntsPos.values())[0])[:,0], np.array(list(listAntsPos.values())[0])[:,1], 'go-')"
     ],
     "language": "python",
     "metadata": {},
     "outputs": []
    },
    {
     "cell_type": "code",
     "collapsed": false,
     "input": [],
     "language": "python",
     "metadata": {},
     "outputs": []
    }
   ],
   "metadata": {}
  }
 ]
}