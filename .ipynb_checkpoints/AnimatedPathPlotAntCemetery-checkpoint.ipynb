{
 "metadata": {
  "css": [
   "solarized-light"
  ],
  "name": "",
  "signature": "sha256:06fb08474998edebaf7fe4fda03f5e3c2bdd755d78761909b836c1b9ac675a0b"
 },
 "nbformat": 3,
 "nbformat_minor": 0,
 "worksheets": [
  {
   "cells": [
    {
     "cell_type": "heading",
     "level": 1,
     "metadata": {
      "slideshow": {
       "slide_type": "slide"
      }
     },
     "source": [
      "Plot of the ant cemetery's execution which show the paths of the ants."
     ]
    },
    {
     "cell_type": "code",
     "collapsed": false,
     "input": [
      "#%matplotlib inline\n",
      "import sys\n",
      "sys.path.append(\"../..\")\n",
      "import matplotlib.pyplot as plt\n",
      "import matplotlib.animation as animation\n",
      "import numpy as np\n",
      "import matplotlib.cm as cm\n",
      "import random as rd\n",
      "from AntsCemetery import *\n",
      "from AntsCemeteryNormalized import *\n",
      "from Datapoint import *\n",
      "from clusteringColorPixels import ColorPixel"
     ],
     "language": "python",
     "metadata": {},
     "outputs": []
    },
    {
     "cell_type": "code",
     "collapsed": false,
     "input": [
      "from tempfile import NamedTemporaryFile\n",
      "from IPython.display import HTML\n",
      "\n",
      "VIDEO_TAG = \"\"\"<video controls>\n",
      " <source src=\"data:video/x-m4v;base64,{0}\" type=\"video/mp4\">\n",
      " Your browser does not support the video tag.\n",
      "</video>\"\"\"\n",
      "\n",
      "def anim_to_html(anim):\n",
      "    if not hasattr(anim, '_encoded_video'):\n",
      "        with NamedTemporaryFile(suffix='.webm') as f:\n",
      "            anim.save(f.name, fps=5, extra_args=['-vcodec', 'libvpx'])\n",
      "            video = open(f.name, \"rb\").read()\n",
      "        anim._encoded_video = video.encode(\"base64\")\n",
      "    \n",
      "    return VIDEO_TAG.format(anim._encoded_video)\n",
      "\n",
      "animation.Animation._repr_html_ = anim_to_html"
     ],
     "language": "python",
     "metadata": {},
     "outputs": []
    },
    {
     "cell_type": "code",
     "collapsed": false,
     "input": [
      "class AnimatedScatter(object):\n",
      "    def __init__(self,dataset, n = 1000, jump=False, intervale=5, **kwargs):\n",
      "        self.n = n\n",
      "        self.j = jump\n",
      "        self.ac = AntsCemeteryNormalized(dataset, **kwargs)\n",
      "        self.fig, self.ax = plt.subplots()\n",
      "        self.ax.set_title(\"Animated clustering\",fontsize=14)\n",
      "        self.ax.grid(True,linestyle='-',color='0.75')\n",
      "        self.dic={}\n",
      "        self.antsColor=[]\n",
      "        self.anim = animation.FuncAnimation(self.fig, self.update_plot, frames=range(n), interval=intervale, \n",
      "                                           blit=True, init_func=self.setup_plot, repeat=False)\n",
      "    def update_plot(self, i):\n",
      "        if(i == (self.n)-1):\n",
      "            self.ac.finalize()\n",
      "        else:\n",
      "            self.ac.iterate(1, show=self.plotMove, dic=self.dic, jump=self.j)\n",
      "        \n",
      "        point = list(self.ac.board.values())\n",
      "        pos = list(self.ac.board.keys())\n",
      "        colorPix = [str(pix) for pix in point]\n",
      "        antPos = []\n",
      "        colorPickedPix = []\n",
      "        pickedPos = []\n",
      "        for ant in self.ac.ants:\n",
      "            if(ant.carrying()):\n",
      "                colorPickedPix.append(str(ant.peek()))\n",
      "                pickedPos.append(ant.getPos())\n",
      "            else:\n",
      "                antPos.append(ant.getPos())\n",
      "       \n",
      "        self.scat1 = self.ax.scatter([i for (i,j) in pos], [j for (i,j) in pos], \n",
      "                                    marker='o', s=150, c=colorPix, cmap=cm.get_cmap(\"Set1\"), animated=True)\n",
      "        self.scat2 = self.ax.scatter([i for (i,j) in pickedPos], [j for (i,j) in pickedPos], \n",
      "                                    marker='o', s=150, c=colorPickedPix, cmap=cm.get_cmap(\"Set1\"), \n",
      "                                    alpha=0.5, animated=True)\n",
      "\n",
      "        drawing = []\n",
      "        for i in range(len(self.dic)):\n",
      "            movesx, = self.ax.plot(np.array(list(self.dic.values())[i])[:,0], np.array(list(self.dic.values())[i])[:,1], 'go-',\n",
      "                                   c=self.antsColor[i] ,animated=True)\n",
      "            drawing.append(movesx)\n",
      "\n",
      "        return tuple([d for d in drawing]) + (self.scat1, self.scat2,)\n",
      "\n",
      "    def setup_plot(self):\n",
      "        self.antsColor = [(rd.random(),rd.random(),rd.random()) for i in range(len(self.ac.ants))]\n",
      "        point = list(self.ac.board.values())\n",
      "        pos = list(self.ac.board.keys())\n",
      "        colorPix = [str(pix) for pix in point]\n",
      "        colorPickedPix = []\n",
      "        pickedPos = []\n",
      "        for ant in self.ac.ants:\n",
      "            if(ant.carrying()):\n",
      "                colorPickedPix.append(str(ant.peek()))\n",
      "                pickedPos.append(ant.getPos())\n",
      "\n",
      "        self.scat1 = self.ax.scatter([i for (i,j) in pos], [j for (i,j) in pos], \n",
      "                                    marker='o', s=150, c=colorPix, cmap=cm.get_cmap(\"Set1\"), animated=True)\n",
      "        self.scat2 = self.ax.scatter([i for (i,j) in pickedPos], [j for (i,j) in pickedPos], \n",
      "                                    marker='o', s=150, c=colorPickedPix, cmap=cm.get_cmap(\"Set1\"), \n",
      "                                    alpha=0.5, animated=True)\n",
      "        plt.title(\"Paths of the ants\",fontsize=14)\n",
      "        plt.grid(True,linestyle='-',color='0.75')\n",
      "        self.ax.axis([-1, self.ac.boardDimension+1, -1, self.ac.boardDimension+1])\n",
      "        return self.scat1, self.scat2,\n",
      "    \n",
      "    def show(self):\n",
      "        plt.show()\n",
      "\n",
      "    @staticmethod\n",
      "    def plotMove(ac, dic, jump):\n",
      "        for ant in ac.ants:\n",
      "            if ant.carrying() or not jump:\n",
      "                if not ant in dic:\n",
      "                    dic[ant] = []\n",
      "                dic[ant] += [np.array(ant.getPos())]"
     ],
     "language": "python",
     "metadata": {},
     "outputs": []
    },
    {
     "cell_type": "code",
     "collapsed": false,
     "input": [
      "dataset = []\n",
      "range1 = range(16)\n",
      "range2 = range(105,121)\n",
      "range3 = range(240,256)\n",
      "for i in range (30):\n",
      "    dataset.append(ColorPixel(rd.choice(range3),rd.choice(range1),rd.choice(range1)))#Mostly red pixels\n",
      "    dataset.append(ColorPixel(rd.choice(range1),rd.choice(range3),rd.choice(range1)))#Mostly green pixels\n",
      "    dataset.append(ColorPixel(rd.choice(range1),rd.choice(range1),rd.choice(range3)))#Mostly blue pixels"
     ],
     "language": "python",
     "metadata": {
      "code_folding": [],
      "run_control": {
       "breakpoint": false,
       "read_only": false
      },
      "slideshow": {
       "slide_type": "slide"
      }
     },
     "outputs": []
    },
    {
     "cell_type": "code",
     "collapsed": false,
     "input": [
      "a = AnimatedScatter(dataset, jump=True, dropFactor=0.7,intervale=5, pickupFactor=0.8)"
     ],
     "language": "python",
     "metadata": {},
     "outputs": []
    },
    {
     "cell_type": "code",
     "collapsed": false,
     "input": [
      "a.show()"
     ],
     "language": "python",
     "metadata": {},
     "outputs": []
    },
    {
     "cell_type": "code",
     "collapsed": false,
     "input": [],
     "language": "python",
     "metadata": {},
     "outputs": []
    }
   ],
   "metadata": {}
  }
 ]
}